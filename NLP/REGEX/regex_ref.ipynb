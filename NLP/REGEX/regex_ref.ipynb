{
 "cells": [
  {
   "cell_type": "markdown",
   "metadata": {},
   "source": [
    "## REGEX WORKSTATION"
   ]
  },
  {
   "cell_type": "code",
   "execution_count": 29,
   "metadata": {},
   "outputs": [],
   "source": [
    "## Example - Extracting relevant data for analysis from companies financial report.\n",
    "# https://regex101.com/\n",
    "# Extract all the data make a report and export its csv file"
   ]
  },
  {
   "cell_type": "code",
   "execution_count": 30,
   "metadata": {},
   "outputs": [
    {
     "name": "stdout",
     "output_type": "stream",
     "text": [
      "\n",
      "XYZ Corporation Financial Report\n",
      "\n",
      "Note 1 - Company Information\n",
      "Company Name: XYZ Corporation\n",
      "Location: 1234 Main Street, Cityville, State, 12345\n",
      "Contact: contact@xyzcorp.com\n",
      "Website: www.xyzcorp.com\n",
      "\n",
      "Note 2 - Financial Summary\n",
      "Fiscal Year: 2023\n",
      "\n",
      "Note 2.1 - Revenue\n",
      "The total revenue for the fiscal year amounted to an impressive $5,000,000, showcasing a notable growth rate of 12% compared to the previous year.\n",
      "\n",
      "Note 2.2 - Expenses\n",
      "Cost of Goods Sold was managed at $2,000,000, while Operating Expenses were effectively controlled at $1,000,000. Additionally, the company strategically allocated $500,000 towards Research and Development.\n",
      "\n",
      "Note 2.3 - Profit\n",
      "XYZ Corporation achieved a commendable Gross Profit of $3,000,000. The Operating Profit was secured at $1,500,000, ultimately leading to a Net Profit of $1,000,000.\n",
      "\n",
      "Note 2.4 - Financial Ratios\n",
      "The company maintained a healthy Gross Margin of 60%, with the Operating Margin stable at 30% and the Net Margin sustained at 20%.\n",
      "\n",
      "Note 3 - Financial Position\n",
      "Note 3.1 - Assets\n",
      "The current asset base was strategically positioned at $3,000,000, with the fixed assets currently valued at $5,000,000.\n",
      "\n",
      "Note 3.2 - Liabilities and Equity\n",
      "Total Liabilities were recorded at $4,000,000, including Current Liabilities of $2,000,000 and Long-term Liabilities totaling $2,000,000. The Shareholders' Equity was aggregated at $4,000,000.\n",
      "\n",
      "Note 4 - Financial Analysis\n",
      "During the fiscal year 2023, XYZ Corporation demonstrated a commendable revenue growth rate of 12%, resulting in an impressive total revenue of $5,000,000. Despite a significant surge in operational expenses, the company managed to maintain a net profit of $1,000,000, highlighting its robust financial management.\n",
      "\n",
      "Importantly, the company boasted a strong asset foundation, with current assets strategically valued at $3,000,000 and fixed assets currently valued at $5,000,000. This strong financial position was further underscored by the company's sound debt-to-equity ratio, indicating financial stability and the potential for sustained growth.\n",
      "\n",
      "Outlook\n",
      "With its positive financial trajectory and stable asset foundation, XYZ Corporation is well-positioned for continued success and expansion in the upcoming fiscal year. For a detailed overview of the company's financial performance, please refer to the complete financial statement and accompanying notes.\n",
      "\n",
      "\n",
      "            \n"
     ]
    }
   ],
   "source": [
    "import re\n",
    "ref_txt = \"\"\"\n",
    "XYZ Corporation Financial Report\n",
    "\n",
    "Note 1 - Company Information\n",
    "Company Name: XYZ Corporation\n",
    "Location: 1234 Main Street, Cityville, State, 12345\n",
    "Contact: contact@xyzcorp.com\n",
    "Website: www.xyzcorp.com\n",
    "\n",
    "Note 2 - Financial Summary\n",
    "Fiscal Year: 2023\n",
    "\n",
    "Note 2.1 - Revenue\n",
    "The total revenue for the fiscal year amounted to an impressive $5,000,000, showcasing a notable growth rate of 12% compared to the previous year.\n",
    "\n",
    "Note 2.2 - Expenses\n",
    "Cost of Goods Sold was managed at $2,000,000, while Operating Expenses were effectively controlled at $1,000,000. Additionally, the company strategically allocated $500,000 towards Research and Development.\n",
    "\n",
    "Note 2.3 - Profit\n",
    "XYZ Corporation achieved a commendable Gross Profit of $3,000,000. The Operating Profit was secured at $1,500,000, ultimately leading to a Net Profit of $1,000,000.\n",
    "\n",
    "Note 2.4 - Financial Ratios\n",
    "The company maintained a healthy Gross Margin of 60%, with the Operating Margin stable at 30% and the Net Margin sustained at 20%.\n",
    "\n",
    "Note 3 - Financial Position\n",
    "Note 3.1 - Assets\n",
    "The current asset base was strategically positioned at $3,000,000, with the fixed assets currently valued at $5,000,000.\n",
    "\n",
    "Note 3.2 - Liabilities and Equity\n",
    "Total Liabilities were recorded at $4,000,000, including Current Liabilities of $2,000,000 and Long-term Liabilities totaling $2,000,000. The Shareholders' Equity was aggregated at $4,000,000.\n",
    "\n",
    "Note 4 - Financial Analysis\n",
    "During the fiscal year 2023, XYZ Corporation demonstrated a commendable revenue growth rate of 12%, resulting in an impressive total revenue of $5,000,000. Despite a significant surge in operational expenses, the company managed to maintain a net profit of $1,000,000, highlighting its robust financial management.\n",
    "\n",
    "Importantly, the company boasted a strong asset foundation, with current assets strategically valued at $3,000,000 and fixed assets currently valued at $5,000,000. This strong financial position was further underscored by the company's sound debt-to-equity ratio, indicating financial stability and the potential for sustained growth.\n",
    "\n",
    "Outlook\n",
    "With its positive financial trajectory and stable asset foundation, XYZ Corporation is well-positioned for continued success and expansion in the upcoming fiscal year. For a detailed overview of the company's financial performance, please refer to the complete financial statement and accompanying notes.\n",
    "\n",
    "\n",
    "            \"\"\"\n",
    "print(ref_txt)"
   ]
  },
  {
   "cell_type": "code",
   "execution_count": 31,
   "metadata": {},
   "outputs": [
    {
     "name": "stdout",
     "output_type": "stream",
     "text": [
      "[]\n"
     ]
    }
   ],
   "source": [
    "# \\d for extracting digits\n",
    "pattern = \"\\+91-\\d{4} \\d{4} \\d{2}|\\d{10}\"   # or | must not have space on either side, \"+\" is a special character -> \\+\n",
    "match = re.findall(pattern ,ref_txt)\n",
    "print(match)\n",
    "# flags = additional parameters or arguments during extraction = re.IGNORECASE (to ignore case sensitive cases)\n",
    "\n",
    "# .match() will only return a match if the pattern is found at the beginning of the string.\n",
    "# .search() will return the first match that is found anywhere in the string.\n",
    "# .findall() will return a list of all matches that are found in the string.\n",
    "\n"
   ]
  },
  {
   "cell_type": "markdown",
   "metadata": {},
   "source": [
    "#### 1. Extracting main headings of report"
   ]
  },
  {
   "cell_type": "code",
   "execution_count": 32,
   "metadata": {},
   "outputs": [
    {
     "name": "stdout",
     "output_type": "stream",
     "text": [
      "[('1', 'Company Information'), ('2', 'Financial Summary'), ('3', 'Financial Position'), ('4', 'Financial Analysis')]\n"
     ]
    }
   ],
   "source": [
    "pattern = \"Note (\\d+) - ([^\\n]+)\"\n",
    "match = re.findall(pattern, ref_txt)\n",
    "print(match)\n"
   ]
  },
  {
   "cell_type": "markdown",
   "metadata": {},
   "source": [
    "#### 2. Extracting Sub Headings"
   ]
  },
  {
   "cell_type": "code",
   "execution_count": 33,
   "metadata": {},
   "outputs": [
    {
     "name": "stdout",
     "output_type": "stream",
     "text": [
      "[('2.1', 'Revenue'), ('2.2', 'Expenses'), ('2.3', 'Profit'), ('2.4', 'Financial Ratios'), ('3.1', 'Assets'), ('3.2', 'Liabilities and Equity')]\n"
     ]
    }
   ],
   "source": [
    "pattern = \"Note (\\d+\\.\\d+) - ([^\\n]+)\"\n",
    "match = re.findall(pattern, ref_txt)\n",
    "print(match)"
   ]
  },
  {
   "cell_type": "code",
   "execution_count": null,
   "metadata": {},
   "outputs": [],
   "source": []
  },
  {
   "cell_type": "code",
   "execution_count": null,
   "metadata": {},
   "outputs": [],
   "source": []
  }
 ],
 "metadata": {
  "kernelspec": {
   "display_name": "Python 3",
   "language": "python",
   "name": "python3"
  },
  "language_info": {
   "codemirror_mode": {
    "name": "ipython",
    "version": 3
   },
   "file_extension": ".py",
   "mimetype": "text/x-python",
   "name": "python",
   "nbconvert_exporter": "python",
   "pygments_lexer": "ipython3",
   "version": "3.11.2"
  }
 },
 "nbformat": 4,
 "nbformat_minor": 2
}
