{
 "cells": [
  {
   "cell_type": "markdown",
   "metadata": {},
   "source": [
    "# MACHINE LEARNING GOTO "
   ]
  },
  {
   "cell_type": "markdown",
   "metadata": {
    "vscode": {
     "languageId": "plaintext"
    }
   },
   "source": [
    "### Jargons\n",
    "1. Model - An algorithm used for training the data (Decision Tree, Regression. Random Forest)\n",
    "2. Fitting / Training a model = Steps taken to make the model understand patterns in the given data. \n",
    "3. Training Data - Dataset used for training the model.\n",
    "\n",
    "<i>\"We fit the model with the training data\"</i>\n",
    "\n",
    "<u>Understanding it with a story</u><br>\n",
    "You are training a friend(model) of yours to classify different types of birds by showing diffrent images of birds(training data) and telling him about the birds(Training). "
   ]
  },
  {
   "cell_type": "markdown",
   "metadata": {},
   "source": []
  }
 ],
 "metadata": {
  "language_info": {
   "name": "python"
  }
 },
 "nbformat": 4,
 "nbformat_minor": 2
}
